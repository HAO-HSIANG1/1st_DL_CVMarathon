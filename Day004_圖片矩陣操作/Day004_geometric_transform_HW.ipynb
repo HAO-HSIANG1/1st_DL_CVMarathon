{
 "cells": [
  {
   "cell_type": "markdown",
   "metadata": {},
   "source": [
    "### 作業\n",
    "實作本篇提到的三大概念\n",
    "\n",
    "翻轉：實作上下左右的翻轉\n",
    "\n",
    "縮放：比較鄰近差值與雙立方插值 (或雙線性插值) 的圖片品質\n",
    "\n",
    "平移：建立 Translation Transformation Matrix 來做平移"
   ]
  },
  {
   "cell_type": "code",
   "execution_count": 1,
   "metadata": {},
   "outputs": [],
   "source": [
    "import cv2\n",
    "import time\n",
    "import numpy as np\n",
    "\n",
    "img_path = r'C:\\Users\\HAO\\Documents\\GitHub\\1st_DL_CVMarathon\\Day004_geometric_transform\\protect.png'\n",
    "img = cv2.imread(img_path)"
   ]
  },
  {
   "cell_type": "code",
   "execution_count": 4,
   "metadata": {},
   "outputs": [],
   "source": [
    "#水平翻轉\n",
    "img_hflip = img[:,::-1,:]\n",
    "#垂直翻轉\n",
    "img_vflip = img[::-1, :, :]\n",
    "\n",
    "# 水平 + 垂直翻轉\n",
    "img_hvflip = img[::-1, ::-1,:]\n",
    "\n",
    "while True:\n",
    "    cv2.imshow('filp image', img_hvflip)\n",
    "    k=cv2.waitKey(0)\n",
    "    if k==27:\n",
    "        cv2.destroyAllWindows()\n",
    "        break"
   ]
  },
  {
   "cell_type": "markdown",
   "metadata": {},
   "source": [
    "## 縮放圖片"
   ]
  },
  {
   "cell_type": "markdown",
   "metadata": {},
   "source": [
    "### 放大\n",
    "我們先透過縮小圖片去壓縮原有圖片保有的資訊，再放大比較不同方法之間的速度與圖片品質"
   ]
  },
  {
   "cell_type": "code",
   "execution_count": 5,
   "metadata": {},
   "outputs": [
    {
     "name": "stdout",
     "output_type": "stream",
     "text": [
      "INTER_NEAREST zoom cost0.00299835205078125\n",
      "INTER_NEAREST zoom cost0.008994340896606445\n"
     ]
    }
   ],
   "source": [
    "# 將圖片壓縮成原來的20%\n",
    "img_test = cv2.resize(img, None, fx=0.2, fy=0.2)\n",
    "\n",
    "# 將圖片放大為\"小圖片\"的 8 倍大 = 原圖的 1.6 倍大\n",
    "fx, fy = 8,8\n",
    "\n",
    "#鄰近差值scale +計算花費時間\n",
    "start_time = time.time()\n",
    "img_area_scale = cv2.resize(img_test, None, fx=fx, fy=fy, interpolation= cv2.INTER_NEAREST)\n",
    "print('INTER_NEAREST zoom cost{}'.format(time.time()-start_time))\n",
    "\n",
    "#雙立方差補cale +計算花費時間\n",
    "start_time = time.time()\n",
    "img_cubic_scale = cv2.resize(img_test, None, fx=fx, fy=fy, interpolation= cv2.INTER_CUBIC)\n",
    "print('INTER_NEAREST zoom cost{}'.format(time.time()-start_time))\n",
    "\n",
    "# 組合 + 顯示圖片\n",
    "# orig_img = cv2.resize(img_area_scale, img_cubic_scale.shape[:2][::-1])\n",
    "img_zoom = np.hstack((img_area_scale, img_cubic_scale))  #水平軸大小需一致\n",
    "while True:\n",
    "    cv2.imshow('zoom_image', img_zoom)\n",
    "    k = cv2.waitKey(0)\n",
    "    if k ==27:\n",
    "        cv2.destroyAllWindows()\n",
    "        break"
   ]
  },
  {
   "cell_type": "markdown",
   "metadata": {},
   "source": [
    "## 平移幾何轉換"
   ]
  },
  {
   "cell_type": "code",
   "execution_count": 9,
   "metadata": {},
   "outputs": [],
   "source": [
    "# 設定 translation transformation matrix\n",
    "# x 平移 50 pixel; y 平移 10 pixel\n",
    "M = np.array([[1,0,50],[0,1,10]], dtype= np.float32)\n",
    "img_shift = cv2.warpAffine(img, M, (img.shape[1], img.shape[0]))\n",
    "\n",
    "#組合圖片\n",
    "shift_img = np.hstack((img, img_shift))\n",
    "while True:\n",
    "    cv2.imshow('shift_img', shift_img)\n",
    "    k = cv2.waitKey(0)\n",
    "    if k==27:\n",
    "        cv2.destroyAllWindows()\n",
    "        break"
   ]
  },
  {
   "cell_type": "code",
   "execution_count": null,
   "metadata": {},
   "outputs": [],
   "source": []
  },
  {
   "cell_type": "code",
   "execution_count": null,
   "metadata": {},
   "outputs": [],
   "source": []
  },
  {
   "cell_type": "code",
   "execution_count": null,
   "metadata": {},
   "outputs": [],
   "source": []
  }
 ],
 "metadata": {
  "kernelspec": {
   "display_name": "Python 3",
   "language": "python",
   "name": "python3"
  },
  "language_info": {
   "codemirror_mode": {
    "name": "ipython",
    "version": 3
   },
   "file_extension": ".py",
   "mimetype": "text/x-python",
   "name": "python",
   "nbconvert_exporter": "python",
   "pygments_lexer": "ipython3",
   "version": "3.7.3"
  }
 },
 "nbformat": 4,
 "nbformat_minor": 2
}
